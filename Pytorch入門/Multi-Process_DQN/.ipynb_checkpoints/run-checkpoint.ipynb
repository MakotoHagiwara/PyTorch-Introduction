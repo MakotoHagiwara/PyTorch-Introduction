{
 "cells": [
  {
   "cell_type": "code",
   "execution_count": 3,
   "metadata": {},
   "outputs": [
    {
     "name": "stdout",
     "output_type": "stream",
     "text": [
      "episode: 0 return: 1.6 epsilon: 0.29840000000000017\n",
      "episode: 10 return: 21.8 epsilon: 0.27660000000000257\n",
      "episode: 20 return: 23.9 epsilon: 0.2527000000000052\n",
      "episode: 30 return: 65.2 epsilon: 0.18750000000001238\n",
      "episode: 40 return: 40.5 epsilon: 0.14700000000001684\n",
      "episode: 50 return: 65.3 epsilon: 0.08170000000001802\n",
      "episode: 60 return: 126.7 epsilon: 0\n",
      "episode: 70 return: 176.4 epsilon: 0\n",
      "episode: 80 return: 193.6 epsilon: 0\n",
      "episode: 90 return: 192.0 epsilon: 0\n",
      "episode: 100 return: 195.6 epsilon: 0\n",
      "episode: 110 return: 198.8 epsilon: 0\n",
      "episode: 120 return: 197.1 epsilon: 0\n",
      "episode: 130 return: 199.3 epsilon: 0\n",
      "episode: 140 return: 200.0 epsilon: 0\n",
      "episode: 150 return: 190.1 epsilon: 0\n",
      "episode: 160 return: 192.5 epsilon: 0\n",
      "episode: 170 return: 198.4 epsilon: 0\n",
      "episode: 180 return: 166.7 epsilon: 0\n",
      "episode: 190 return: 200.0 epsilon: 0\n"
     ]
    }
   ],
   "source": [
    "import torch\n",
    "import torch.multiprocessing as mp\n",
    "mp.set_start_method('spawn', force = True)\n",
    "import numpy as np\n",
    "import gym\n",
    "from time import sleep\n",
    "import os\n",
    "from Actor import actor_process\n",
    "from Learner import learner_process\n",
    "\n",
    "def run():\n",
    "    mp.freeze_support()\n",
    "    n_actors = 5\n",
    "    path = os.path.join('./', 'memory.pt')\n",
    "    model_path = os.path.join('./', 'model.pt')\n",
    "    target_model_path = os.path.join('./', 'target_model.pt')\n",
    "    try:\n",
    "        os.remove(path)\n",
    "        os.remove(model_path)\n",
    "        os.remove(target_model_path)\n",
    "    except:\n",
    "        pass\n",
    "    \n",
    "    processes = [mp.Process(target = learner_process,\n",
    "                                    args = (path, model_path, target_model_path))]\n",
    "    for actor_id in range(n_actors):\n",
    "        processes.append(mp.Process(target = actor_process,\n",
    "                                    args = (path, model_path, target_model_path, actor_id)))\n",
    "    for i in range(len(processes)):\n",
    "        processes[i].start()\n",
    "    for p in processes:\n",
    "        p.join()\n",
    "        \n",
    "if __name__ == '__main__':\n",
    "    run()"
   ]
  },
  {
   "cell_type": "code",
   "execution_count": null,
   "metadata": {
    "collapsed": true
   },
   "outputs": [],
   "source": []
  }
 ],
 "metadata": {
  "kernelspec": {
   "display_name": "Python 3",
   "language": "python",
   "name": "python3"
  },
  "language_info": {
   "codemirror_mode": {
    "name": "ipython",
    "version": 3
   },
   "file_extension": ".py",
   "mimetype": "text/x-python",
   "name": "python",
   "nbconvert_exporter": "python",
   "pygments_lexer": "ipython3",
   "version": "3.6.3"
  }
 },
 "nbformat": 4,
 "nbformat_minor": 2
}
